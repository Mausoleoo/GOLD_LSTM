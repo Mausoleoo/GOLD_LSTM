{
 "cells": [
  {
   "cell_type": "code",
   "execution_count": 1,
   "metadata": {},
   "outputs": [],
   "source": [
    "import math\n",
    "import pandas as pd\n",
    "import matplotlib.pyplot as plt\n",
    "from statsmodels.tsa.holtwinters import ExponentialSmoothing"
   ]
  },
  {
   "cell_type": "code",
   "execution_count": 2,
   "metadata": {},
   "outputs": [],
   "source": [
    "dataset = pd.read_csv(\"monthly_csv.csv\")"
   ]
  },
  {
   "cell_type": "code",
   "execution_count": 17,
   "metadata": {},
   "outputs": [],
   "source": [
    "limite = math.floor(len(dataset)*0.0) #Porcentaje para entrenamiento\n",
    "limite1 = math.floor(len(dataset)*0.95) #Porcentaje para entrenamiento\n",
    "#train = len(dataset)-check "
   ]
  },
  {
   "cell_type": "code",
   "execution_count": 4,
   "metadata": {},
   "outputs": [],
   "source": [
    "dataset\n",
    "dataset['Date'] = pd.to_datetime(dataset['Date']) #Modifica formato de fecha\n",
    "dataset.set_index('Date', inplace = True)\n"
   ]
  },
  {
   "cell_type": "code",
   "execution_count": 5,
   "metadata": {},
   "outputs": [
    {
     "data": {
      "text/html": [
       "<div>\n",
       "<style scoped>\n",
       "    .dataframe tbody tr th:only-of-type {\n",
       "        vertical-align: middle;\n",
       "    }\n",
       "\n",
       "    .dataframe tbody tr th {\n",
       "        vertical-align: top;\n",
       "    }\n",
       "\n",
       "    .dataframe thead th {\n",
       "        text-align: right;\n",
       "    }\n",
       "</style>\n",
       "<table border=\"1\" class=\"dataframe\">\n",
       "  <thead>\n",
       "    <tr style=\"text-align: right;\">\n",
       "      <th></th>\n",
       "      <th>Price</th>\n",
       "    </tr>\n",
       "    <tr>\n",
       "      <th>Date</th>\n",
       "      <th></th>\n",
       "    </tr>\n",
       "  </thead>\n",
       "  <tbody>\n",
       "    <tr>\n",
       "      <th>1950-01-01</th>\n",
       "      <td>34.73</td>\n",
       "    </tr>\n",
       "    <tr>\n",
       "      <th>1950-02-01</th>\n",
       "      <td>34.73</td>\n",
       "    </tr>\n",
       "    <tr>\n",
       "      <th>1950-03-01</th>\n",
       "      <td>34.73</td>\n",
       "    </tr>\n",
       "    <tr>\n",
       "      <th>1950-04-01</th>\n",
       "      <td>34.73</td>\n",
       "    </tr>\n",
       "    <tr>\n",
       "      <th>1950-05-01</th>\n",
       "      <td>34.73</td>\n",
       "    </tr>\n",
       "  </tbody>\n",
       "</table>\n",
       "</div>"
      ],
      "text/plain": [
       "            Price\n",
       "Date             \n",
       "1950-01-01  34.73\n",
       "1950-02-01  34.73\n",
       "1950-03-01  34.73\n",
       "1950-04-01  34.73\n",
       "1950-05-01  34.73"
      ]
     },
     "execution_count": 5,
     "metadata": {},
     "output_type": "execute_result"
    }
   ],
   "source": [
    "dataset.head()"
   ]
  },
  {
   "cell_type": "code",
   "execution_count": 6,
   "metadata": {},
   "outputs": [
    {
     "data": {
      "text/html": [
       "<div>\n",
       "<style scoped>\n",
       "    .dataframe tbody tr th:only-of-type {\n",
       "        vertical-align: middle;\n",
       "    }\n",
       "\n",
       "    .dataframe tbody tr th {\n",
       "        vertical-align: top;\n",
       "    }\n",
       "\n",
       "    .dataframe thead th {\n",
       "        text-align: right;\n",
       "    }\n",
       "</style>\n",
       "<table border=\"1\" class=\"dataframe\">\n",
       "  <thead>\n",
       "    <tr style=\"text-align: right;\">\n",
       "      <th></th>\n",
       "      <th>Price</th>\n",
       "    </tr>\n",
       "    <tr>\n",
       "      <th>Date</th>\n",
       "      <th></th>\n",
       "    </tr>\n",
       "  </thead>\n",
       "  <tbody>\n",
       "    <tr>\n",
       "      <th>2018-11-01</th>\n",
       "      <td>1221.275</td>\n",
       "    </tr>\n",
       "    <tr>\n",
       "      <th>2018-12-01</th>\n",
       "      <td>1249.887</td>\n",
       "    </tr>\n",
       "    <tr>\n",
       "      <th>2019-01-01</th>\n",
       "      <td>1291.630</td>\n",
       "    </tr>\n",
       "    <tr>\n",
       "      <th>2019-02-01</th>\n",
       "      <td>1319.755</td>\n",
       "    </tr>\n",
       "    <tr>\n",
       "      <th>2019-03-01</th>\n",
       "      <td>1302.286</td>\n",
       "    </tr>\n",
       "  </tbody>\n",
       "</table>\n",
       "</div>"
      ],
      "text/plain": [
       "               Price\n",
       "Date                \n",
       "2018-11-01  1221.275\n",
       "2018-12-01  1249.887\n",
       "2019-01-01  1291.630\n",
       "2019-02-01  1319.755\n",
       "2019-03-01  1302.286"
      ]
     },
     "execution_count": 6,
     "metadata": {},
     "output_type": "execute_result"
    }
   ],
   "source": [
    "dataset.tail()"
   ]
  },
  {
   "cell_type": "code",
   "execution_count": 7,
   "metadata": {},
   "outputs": [
    {
     "data": {
      "text/plain": [
       "1115.5539999999999"
      ]
     },
     "execution_count": 7,
     "metadata": {},
     "output_type": "execute_result"
    }
   ],
   "source": [
    "dataset.iloc[limite,0]\n"
   ]
  },
  {
   "cell_type": "code",
   "execution_count": 8,
   "metadata": {},
   "outputs": [
    {
     "data": {
      "text/plain": [
       "67"
      ]
     },
     "execution_count": 8,
     "metadata": {},
     "output_type": "execute_result"
    }
   ],
   "source": [
    "limite1-limite"
   ]
  },
  {
   "cell_type": "code",
   "execution_count": 9,
   "metadata": {},
   "outputs": [],
   "source": [
    "dataset.index = pd.date_range(start='1950-01-01',end='2019-04-01',freq= 'M')"
   ]
  },
  {
   "cell_type": "code",
   "execution_count": 10,
   "metadata": {},
   "outputs": [],
   "source": [
    "train, test = dataset.iloc[limite:limite1, 0], dataset.iloc[limite1-1:,0]"
   ]
  },
  {
   "cell_type": "code",
   "execution_count": 11,
   "metadata": {},
   "outputs": [
    {
     "data": {
      "text/plain": [
       "2010-03-31    1115.554\n",
       "2010-04-30    1148.475\n",
       "2010-05-31    1204.321\n",
       "2010-06-30    1232.382\n",
       "2010-07-31    1196.000\n",
       "2010-08-31    1213.464\n",
       "2010-09-30    1271.461\n",
       "2010-10-31    1343.190\n",
       "2010-11-30    1371.784\n",
       "2010-12-31    1393.512\n",
       "2011-01-31    1360.475\n",
       "2011-02-28    1371.313\n",
       "2011-03-31    1422.848\n",
       "2011-04-30    1474.431\n",
       "2011-05-31    1512.188\n",
       "2011-06-30    1528.380\n",
       "2011-07-31    1568.526\n",
       "2011-08-31    1759.500\n",
       "2011-09-30    1780.648\n",
       "2011-10-31    1667.893\n",
       "2011-11-30    1735.977\n",
       "2011-12-31    1652.725\n",
       "2012-01-31    1656.095\n",
       "2012-02-29    1743.095\n",
       "2012-03-31    1675.057\n",
       "2012-04-30    1648.539\n",
       "2012-05-31    1585.114\n",
       "2012-06-30    1595.632\n",
       "2012-07-31    1592.784\n",
       "2012-08-31    1625.682\n",
       "                ...   \n",
       "2013-04-30    1485.905\n",
       "2013-05-31    1416.143\n",
       "2013-06-30    1342.700\n",
       "2013-07-31    1284.348\n",
       "2013-08-31    1345.048\n",
       "2013-09-30    1348.464\n",
       "2013-10-31    1314.402\n",
       "2013-11-30    1277.417\n",
       "2013-12-31    1221.588\n",
       "2014-01-31    1243.068\n",
       "2014-02-28    1298.713\n",
       "2014-03-31    1336.560\n",
       "2014-04-30    1299.175\n",
       "2014-05-31    1288.913\n",
       "2014-06-30    1277.857\n",
       "2014-07-31    1312.989\n",
       "2014-08-31    1297.005\n",
       "2014-09-30    1241.330\n",
       "2014-10-31    1223.565\n",
       "2014-11-30    1176.413\n",
       "2014-12-31    1200.440\n",
       "2015-01-31    1249.333\n",
       "2015-02-28    1231.100\n",
       "2015-03-31    1180.636\n",
       "2015-04-30    1198.253\n",
       "2015-05-31    1197.684\n",
       "2015-06-30    1182.248\n",
       "2015-07-31    1131.580\n",
       "2015-08-31    1117.525\n",
       "2015-09-30    1124.905\n",
       "Freq: M, Name: Price, Length: 67, dtype: float64"
      ]
     },
     "execution_count": 11,
     "metadata": {},
     "output_type": "execute_result"
    }
   ],
   "source": [
    "train"
   ]
  },
  {
   "cell_type": "code",
   "execution_count": 12,
   "metadata": {},
   "outputs": [],
   "source": [
    "model = ExponentialSmoothing(train, trend = 'add', damped = False, seasonal = 'add',seasonal_periods=12).fit()"
   ]
  },
  {
   "cell_type": "code",
   "execution_count": 13,
   "metadata": {},
   "outputs": [
    {
     "name": "stderr",
     "output_type": "stream",
     "text": [
      "/home/mauricio/anaconda3/lib/python3.6/site-packages/statsmodels/tsa/base/tsa_model.py:320: FutureWarning: Creating a DatetimeIndex by passing range endpoints is deprecated.  Use `pandas.date_range` instead.\n",
      "  freq=base_index.freq)\n"
     ]
    }
   ],
   "source": [
    "pred = model.predict(start=limite1-limite, end =limite1-limite+len(test))"
   ]
  },
  {
   "cell_type": "code",
   "execution_count": 14,
   "metadata": {},
   "outputs": [
    {
     "data": {
      "text/plain": [
       "2015-10-31    1128.850930\n",
       "2015-11-30    1107.365068\n",
       "2015-12-31    1099.626867\n",
       "2016-01-31    1102.258243\n",
       "2016-02-29    1080.411316\n",
       "2016-03-31    1035.851441\n",
       "2016-04-30     991.078016\n",
       "2016-05-31     940.620022\n",
       "2016-06-30     898.473380\n",
       "2016-07-31     865.304903\n",
       "2016-08-31     881.372856\n",
       "2016-09-30     916.716577\n",
       "2016-10-31     910.168996\n",
       "2016-11-30     888.683134\n",
       "2016-12-31     880.944933\n",
       "2017-01-31     883.576308\n",
       "2017-02-28     861.729381\n",
       "2017-03-31     817.169506\n",
       "2017-04-30     772.396082\n",
       "2017-05-31     721.938087\n",
       "2017-06-30     679.791445\n",
       "2017-07-31     646.622969\n",
       "2017-08-31     662.690922\n",
       "2017-09-30     698.034642\n",
       "2017-10-31     691.487061\n",
       "2017-11-30     670.001199\n",
       "2017-12-31     662.262998\n",
       "2018-01-31     664.894374\n",
       "2018-02-28     643.047447\n",
       "2018-03-31     598.487572\n",
       "2018-04-30     553.714147\n",
       "2018-05-31     503.256153\n",
       "2018-06-30     461.109511\n",
       "2018-07-31     427.941034\n",
       "2018-08-31     444.008987\n",
       "2018-09-30     479.352708\n",
       "2018-10-31     472.805127\n",
       "2018-11-30     451.319265\n",
       "2018-12-31     443.581064\n",
       "2019-01-31     446.212440\n",
       "2019-02-28     424.365513\n",
       "2019-03-31     379.805637\n",
       "2019-04-30     335.032213\n",
       "2019-05-31     284.574219\n",
       "Freq: M, dtype: float64"
      ]
     },
     "execution_count": 14,
     "metadata": {},
     "output_type": "execute_result"
    }
   ],
   "source": [
    "pred"
   ]
  },
  {
   "cell_type": "code",
   "execution_count": 16,
   "metadata": {},
   "outputs": [
    {
     "data": {
      "text/plain": [
       "(array([ 200.,  400.,  600.,  800., 1000., 1200., 1400., 1600., 1800.,\n",
       "        2000.]), <a list of 10 Text yticklabel objects>)"
      ]
     },
     "execution_count": 16,
     "metadata": {},
     "output_type": "execute_result"
    },
    {
     "data": {
      "image/png": "[encoded data removed]",
      "text/plain": [
       "<Figure size 1584x576 with 1 Axes>"
      ]
     },
     "metadata": {
      "needs_background": "light"
     },
     "output_type": "display_data"
    }
   ],
   "source": [
    "%matplotlib inline\n",
    "plt.figure(figsize=(22,8))\n",
    "plt.plot(train.index, train, label = 'Train')\n",
    "plt.plot(pred.index, pred, label = 'Prediction')\n",
    "plt.plot(test.index, test, label = 'Test')\n",
    "plt.legend(loc='best', fontsize='xx-large')\n",
    "plt.xticks(fontsize=18)\n",
    "plt.yticks(fontsize=14)"
   ]
  }
 ],
 "metadata": {
  "kernelspec": {
   "display_name": "Python 3",
   "language": "python",
   "name": "python3"
  },
  "language_info": {
   "codemirror_mode": {
    "name": "ipython",
    "version": 3
   },
   "file_extension": ".py",
   "mimetype": "text/x-python",
   "name": "python",
   "nbconvert_exporter": "python",
   "pygments_lexer": "ipython3",
   "version": "3.6.8"
  }
 },
 "nbformat": 4,
 "nbformat_minor": 2
}
